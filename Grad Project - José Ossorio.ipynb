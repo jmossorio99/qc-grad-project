{
 "cells": [
  {
   "cell_type": "markdown",
   "id": "cec312ce",
   "metadata": {},
   "source": [
    "# Grad Project - José Ossorio"
   ]
  },
  {
   "cell_type": "markdown",
   "id": "443a4745",
   "metadata": {},
   "source": [
    "## Portfolio Optimization Using Quantum Computing\n",
    "\n",
    "### Introduction\n",
    "<br>\n",
    "<div style=\"text-align: justify\">Currently available quantum computers are small and not capable of solving many industry problems. Quantum computing (QC) is neverhteless a promising technology that is expected to bring exponential speedups in specific areas. As a software engineer, I am interested in the application of quantum computers to industry problems now and in the future and how to integrate this technology with classical approaches in order to produce effective software applications. Despite the limited processing power of current quantum machines, there are still applications that can benefit from QC right now.</div>\n",
    "<br>\n",
    "<div style=\"text-align: justify\">Among the applications of quantum computing in the industry, portfolio optimization promises to deliver great value to the industry. In the past few years, quantum computing applications have transitioned from being a hope for the future to a reality in some very promising fields, such as quantum chemistry, simulations, and optimization problems. One of such optimization problems is the optimization of investment portfolios. A portfolio is a collection of assets, where each asset varies and also relates to other assets in the collection. A good portfolio will pick the best subset of assets to maximize the value according to the desired risk level of the investor.</div>\n",
    "<br>\n",
    "<div style=\"text-align: justify\">In order to model this problem, we need to take into consideration each possible asset and its weight, as well as the possible interaction between assets. This means we are dealing with a quadratic optimization problem, and it is also binary since we are computing whether a specific asset should be in the portfolio. This optimization problem is not an easy one. With the addition of assets to the set of possible options, the difficulty of finding an optimal solution quickly increases. As mentioned in chapter four of the book *Portfolio optimization: Applications in quantum computing*, \"The optimization techniques traditionally used to solve this problem are so-called classical optimization techniques that rely on mathematically well-defined gradient based or descent/directional indications that must be well defined and constrained\". Such heuristics provide a way to solve combinatorial optimization problems using classical computers, but the runtime could still be too long in some cases and the results could be suboptimal.</div>\n",
    "<br>\n",
    "<div style=\"text-align: justify\">The portfolio optimization problem can be modeled as a QUBO (quadratic unconstrained binary optimization) problem. It is quadratic because of the interaction between the variables; it is unconstrained since there are no limitations in terms of the total cost of the portfolio (although one could formulate a different problem and include this); it is also binary, since we only care about each asset being present or not in the optimal solution, i.e. yes or no, 1 or 0. Moreover, quantum computing startup D-Wave provides powerful quantum computers designed specifically to solve optimization problems. According to their website, \"to solve a problem on quantum samplers, you formulate the problem as an objective function, usually in Ising or QUBO format. Low energy states of the objective function represent good solutions to the problem.\" This means that if we can formulate our problem accordingly (using a QUBO or an Ising model formulation) we can find optimal solutions much faster than using classical approaches.</div>\n",
    "<br>\n",
    "<div style=\"text-align: justify\">I find this application area very exciting, since it allows us to make use of quantum computers now to generate cost-effective solutions to hard problems that are sometimes too hard or unfeasible using classical computers.</div>\n",
    "\n",
    "### Lol"
   ]
  },
  {
   "cell_type": "markdown",
   "id": "9c688900",
   "metadata": {},
   "source": [
    "##### References\n",
    "- Marzec, M. (2016). Portfolio optimization: Applications in quantum computing. Handbook of High‐Frequency Trading and Modeling in Finance, 73-106.\n",
    "- Orús, R., Mugel, S., & Lizaso, E. (2019). Quantum computing for finance: Overview and prospects. Reviews in Physics, 4, 100028.\n",
    "- Venturelli, D., & Kondratyev, A. (2019). Reverse quantum annealing approach to portfolio optimization problems. Quantum Machine Intelligence, 1(1-2), 17-30.\n",
    "- Hegade, N. N., Chandarana, P., Paul, K., Chen, X., Albarrán-Arriagada, F., & Solano, E. (2022). Portfolio optimization with digitized counterdiabatic quantum algorithms. Physical Review Research, 4(4), 043204.\n",
    "- Slate, N., Matwiejew, E., Marsh, S., & Wang, J. B. (2021). Quantum walk-based portfolio optimisation. Quantum, 5, 513.\n",
    "- Getting started with D-wave solvers. D. (n.d.). Retrieved February 12, 2023, from https://docs.dwavesys.com/docs/latest/doc_getting_started.html \n",
    "- Multiverse Computing Releases New Version of Singularity SDK for Portfolio Optimization with Quantum Computing. Retrieved February 12, 2023, from https://multiversecomputing.com/resources/multiverse-computing-releases-new-version-of-singularity-sdk-for-portfolio-optimization-with"
   ]
  },
  {
   "cell_type": "code",
   "execution_count": null,
   "id": "74058bcf",
   "metadata": {},
   "outputs": [],
   "source": []
  }
 ],
 "metadata": {
  "kernelspec": {
   "display_name": "quantum-env",
   "language": "python",
   "name": "quantum-env"
  },
  "language_info": {
   "codemirror_mode": {
    "name": "ipython",
    "version": 3
   },
   "file_extension": ".py",
   "mimetype": "text/x-python",
   "name": "python",
   "nbconvert_exporter": "python",
   "pygments_lexer": "ipython3",
   "version": "3.10.8"
  }
 },
 "nbformat": 4,
 "nbformat_minor": 5
}
