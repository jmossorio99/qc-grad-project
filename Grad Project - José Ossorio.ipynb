{
 "cells": [
  {
   "cell_type": "markdown",
   "id": "cec312ce",
   "metadata": {},
   "source": [
    "# Grad Project - José Ossorio"
   ]
  },
  {
   "cell_type": "markdown",
   "id": "db88b9a1",
   "metadata": {},
   "source": []
  },
  {
   "cell_type": "markdown",
   "id": "24b3815e",
   "metadata": {},
   "source": [
    "##### References\n",
    "- Marzec, M. (2016). Portfolio optimization: Applications in quantum computing. Handbook of High‐Frequency Trading and Modeling in Finance, 73-106.\n",
    "- Orús, R., Mugel, S., & Lizaso, E. (2019). Quantum computing for finance: Overview and prospects. Reviews in Physics, 4, 100028.\n",
    "- Venturelli, D., & Kondratyev, A. (2019). Reverse quantum annealing approach to portfolio optimization problems. Quantum Machine Intelligence, 1(1-2), 17-30.\n",
    "- Hegade, N. N., Chandarana, P., Paul, K., Chen, X., Albarrán-Arriagada, F., & Solano, E. (2022). Portfolio optimization with digitized counterdiabatic quantum algorithms. Physical Review Research, 4(4), 043204.\n",
    "- Slate, N., Matwiejew, E., Marsh, S., & Wang, J. B. (2021). Quantum walk-based portfolio optimisation. Quantum, 5, 513.\n",
    "- Getting started with D-wave solvers. D. (n.d.). Retrieved February 12, 2023, from https://docs.dwavesys.com/docs/latest/doc_getting_started.html "
   ]
  },
  {
   "cell_type": "code",
   "execution_count": null,
   "id": "0d64b4ec",
   "metadata": {},
   "outputs": [],
   "source": []
  }
 ],
 "metadata": {
  "kernelspec": {
   "display_name": "quantum-env",
   "language": "python",
   "name": "quantum-env"
  },
  "language_info": {
   "codemirror_mode": {
    "name": "ipython",
    "version": 3
   },
   "file_extension": ".py",
   "mimetype": "text/x-python",
   "name": "python",
   "nbconvert_exporter": "python",
   "pygments_lexer": "ipython3",
   "version": "3.10.8"
  }
 },
 "nbformat": 4,
 "nbformat_minor": 5
}
